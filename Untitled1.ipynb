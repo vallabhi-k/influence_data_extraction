{
 "cells": [
  {
   "cell_type": "code",
   "execution_count": 1,
   "id": "4e8eeb52-de49-4f20-89c3-13f4c9d150c4",
   "metadata": {},
   "outputs": [
    {
     "name": "stdout",
     "output_type": "stream",
     "text": [
      "Saved session to /Users/vallabhikamalia/.config/instaloader/session-influencerabc2.\n"
     ]
    }
   ],
   "source": [
    "from glob import glob\n",
    "from os.path import expanduser\n",
    "from sqlite3 import connect\n",
    "\n",
    "from instaloader import ConnectionException, Instaloader\n",
    "\n",
    "# FIREFOXCOOKIEFILE = \"/home/alex/.mozilla/firefox/l96w6b90.default/cookies.sqlite\"\n",
    "FIREFOXCOOKIEFILE = glob(expanduser(\"~/Library/Application Support/Firefox/Profiles/*.default-release/cookies.sqlite\"))[0]\n",
    "\n",
    "\n",
    "instaloader = Instaloader(max_connection_attempts=1)\n",
    "instaloader.context._session.cookies.update(connect(FIREFOXCOOKIEFILE)\n",
    "                                            .execute(\"SELECT name, value FROM moz_cookies \"\n",
    "                                                     \"WHERE host='.instagram.com'\"))\n",
    "\n",
    "try:\n",
    "    username = instaloader.test_login()\n",
    "    if not username:\n",
    "        raise ConnectionException()\n",
    "except ConnectionException:\n",
    "    raise SystemExit(\"Cookie import failed. Are you logged in successfully in Firefox?\")\n",
    "\n",
    "instaloader.context.username = username\n",
    "instaloader.save_session_to_file()"
   ]
  },
  {
   "cell_type": "code",
   "execution_count": null,
   "id": "bf8973b5-c3d6-4c10-b42d-de2999d67ee8",
   "metadata": {},
   "outputs": [],
   "source": []
  }
 ],
 "metadata": {
  "kernelspec": {
   "display_name": "Python 3 (ipykernel)",
   "language": "python",
   "name": "python3"
  },
  "language_info": {
   "codemirror_mode": {
    "name": "ipython",
    "version": 3
   },
   "file_extension": ".py",
   "mimetype": "text/x-python",
   "name": "python",
   "nbconvert_exporter": "python",
   "pygments_lexer": "ipython3",
   "version": "3.10.9"
  }
 },
 "nbformat": 4,
 "nbformat_minor": 5
}
